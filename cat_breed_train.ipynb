{
 "cells": [
  {
   "cell_type": "code",
   "execution_count": 1,
   "metadata": {},
   "outputs": [],
   "source": [
    "import numpy as np\n",
    "import keras\n",
    "import cv2\n",
    "import os\n",
    "import matplotlib.pyplot as plt"
   ]
  },
  {
   "cell_type": "code",
   "execution_count": 2,
   "metadata": {},
   "outputs": [],
   "source": [
    "from keras.models import Sequential\n",
    "from keras.layers import Input\n",
    "from keras.layers import Conv2D\n",
    "from keras.layers import MaxPooling2D\n",
    "from keras.layers import Flatten\n",
    "from keras.layers import Dropout\n",
    "from keras.layers import Dense"
   ]
  },
  {
   "cell_type": "code",
   "execution_count": 3,
   "metadata": {},
   "outputs": [],
   "source": [
    "num_classes = 12\n",
    "\n",
    "input_shape = (256, 256, 1)"
   ]
  },
  {
   "cell_type": "code",
   "execution_count": 4,
   "metadata": {
    "scrolled": true
   },
   "outputs": [
    {
     "name": "stdout",
     "output_type": "stream",
     "text": [
      "Sphynx 0\n",
      "Birman 1\n",
      "Egyptian Mau 2\n",
      "Ragdoll 3\n",
      "Abyssinian 4\n",
      "Siamese 5\n",
      "Maine Coon 6\n",
      "Bengal 7\n",
      "British Shorthair 8\n",
      "Bombay 9\n",
      "Russian Blue 10\n",
      "Persian 11\n"
     ]
    }
   ],
   "source": [
    "x = list()\n",
    "y = list()\n",
    "\n",
    "for _, dirs, _ in os.walk('photos'):\n",
    "    for i, breed in enumerate(dirs):\n",
    "        print(breed, i)\n",
    "        \n",
    "        for _, _, files in os.walk('photos/' + breed):\n",
    "            for file in files:\n",
    "                img = cv2.imread('photos/' + breed + '/' + file, cv2.IMREAD_GRAYSCALE)\n",
    "                img = cv2.resize(img, dsize=input_shape[:2], interpolation=cv2.INTER_CUBIC)\n",
    "                x.append(img)\n",
    "                y.append(i)\n",
    "\n",
    "x = np.asarray(x)\n",
    "y = np.asarray(y)"
   ]
  },
  {
   "cell_type": "code",
   "execution_count": 5,
   "metadata": {},
   "outputs": [],
   "source": [
    "x = x.astype('float32') / 255\n",
    "x = np.expand_dims(x, -1)\n",
    "\n",
    "y = keras.utils.to_categorical(y, num_classes)"
   ]
  },
  {
   "cell_type": "code",
   "execution_count": 6,
   "metadata": {},
   "outputs": [],
   "source": [
    "i = np.random.permutation(x.shape[0])\n",
    "x = x[i]\n",
    "y = y[i]\n",
    "\n",
    "x_train, x_test = x[:2000,:], x[2000:,:]\n",
    "y_train, y_test = y[:2000,:], y[2000:,:]"
   ]
  },
  {
   "cell_type": "code",
   "execution_count": 7,
   "metadata": {},
   "outputs": [
    {
     "name": "stdout",
     "output_type": "stream",
     "text": [
      "Model: \"sequential\"\n",
      "_________________________________________________________________\n",
      "Layer (type)                 Output Shape              Param #   \n",
      "=================================================================\n",
      "conv2d (Conv2D)              (None, 252, 252, 32)      832       \n",
      "_________________________________________________________________\n",
      "max_pooling2d (MaxPooling2D) (None, 126, 126, 32)      0         \n",
      "_________________________________________________________________\n",
      "conv2d_1 (Conv2D)            (None, 124, 124, 64)      18496     \n",
      "_________________________________________________________________\n",
      "max_pooling2d_1 (MaxPooling2 (None, 62, 62, 64)        0         \n",
      "_________________________________________________________________\n",
      "flatten (Flatten)            (None, 246016)            0         \n",
      "_________________________________________________________________\n",
      "dropout (Dropout)            (None, 246016)            0         \n",
      "_________________________________________________________________\n",
      "dense (Dense)                (None, 16)                3936272   \n",
      "_________________________________________________________________\n",
      "dense_1 (Dense)              (None, 12)                204       \n",
      "=================================================================\n",
      "Total params: 3,955,804\n",
      "Trainable params: 3,955,804\n",
      "Non-trainable params: 0\n",
      "_________________________________________________________________\n"
     ]
    }
   ],
   "source": [
    "model = Sequential(\n",
    "    [\n",
    "        Input(shape=input_shape),\n",
    "        Conv2D(32, kernel_size=(5, 5), activation='relu'),\n",
    "        MaxPooling2D(pool_size=(2, 2)),\n",
    "        Conv2D(64, kernel_size=(3, 3), activation='relu'),\n",
    "        MaxPooling2D(pool_size=(2, 2)),\n",
    "        Flatten(),\n",
    "        Dropout(0.5),\n",
    "        Dense(16, activation='relu'),\n",
    "        Dense(num_classes, activation='softmax'),\n",
    "    ]\n",
    ")\n",
    "\n",
    "model.summary()"
   ]
  },
  {
   "cell_type": "code",
   "execution_count": 8,
   "metadata": {},
   "outputs": [
    {
     "name": "stdout",
     "output_type": "stream",
     "text": [
      "Epoch 1/50\n",
      "15/15 [==============================] - 45s 3s/step - loss: 2.8348 - accuracy: 0.0783 - val_loss: 2.4844 - val_accuracy: 0.1150\n",
      "Epoch 2/50\n",
      "15/15 [==============================] - 45s 3s/step - loss: 2.4634 - accuracy: 0.1189 - val_loss: 2.4898 - val_accuracy: 0.0750\n",
      "Epoch 3/50\n",
      "15/15 [==============================] - 48s 3s/step - loss: 2.4079 - accuracy: 0.1583 - val_loss: 2.4709 - val_accuracy: 0.0900\n",
      "Epoch 4/50\n",
      "15/15 [==============================] - 47s 3s/step - loss: 2.3662 - accuracy: 0.1650 - val_loss: 2.4120 - val_accuracy: 0.1450\n",
      "Epoch 5/50\n",
      "15/15 [==============================] - 48s 3s/step - loss: 2.3004 - accuracy: 0.1850 - val_loss: 2.4332 - val_accuracy: 0.1300\n",
      "Epoch 6/50\n",
      "15/15 [==============================] - 49s 3s/step - loss: 2.2238 - accuracy: 0.2206 - val_loss: 2.3901 - val_accuracy: 0.1600\n",
      "Epoch 7/50\n",
      "15/15 [==============================] - 51s 3s/step - loss: 2.1554 - accuracy: 0.2506 - val_loss: 2.3650 - val_accuracy: 0.1550\n",
      "Epoch 8/50\n",
      "15/15 [==============================] - 48s 3s/step - loss: 2.0577 - accuracy: 0.2644 - val_loss: 2.4018 - val_accuracy: 0.1700\n",
      "Epoch 9/50\n",
      "15/15 [==============================] - 48s 3s/step - loss: 1.9032 - accuracy: 0.3156 - val_loss: 2.4492 - val_accuracy: 0.1650\n",
      "Epoch 10/50\n",
      "15/15 [==============================] - 49s 3s/step - loss: 1.7485 - accuracy: 0.3672 - val_loss: 2.6030 - val_accuracy: 0.1550\n",
      "Epoch 11/50\n",
      "15/15 [==============================] - 48s 3s/step - loss: 1.6040 - accuracy: 0.4056 - val_loss: 2.5823 - val_accuracy: 0.1900\n",
      "Epoch 12/50\n",
      "15/15 [==============================] - 49s 3s/step - loss: 1.4484 - accuracy: 0.4756 - val_loss: 2.5855 - val_accuracy: 0.1700\n",
      "Epoch 13/50\n",
      "15/15 [==============================] - 49s 3s/step - loss: 1.2703 - accuracy: 0.5622 - val_loss: 2.9157 - val_accuracy: 0.1600\n",
      "Epoch 14/50\n",
      "15/15 [==============================] - 48s 3s/step - loss: 1.1656 - accuracy: 0.6061 - val_loss: 3.1862 - val_accuracy: 0.1600\n",
      "Epoch 15/50\n",
      "15/15 [==============================] - 47s 3s/step - loss: 0.9850 - accuracy: 0.6811 - val_loss: 3.3554 - val_accuracy: 0.1900\n",
      "Epoch 16/50\n",
      "15/15 [==============================] - 47s 3s/step - loss: 0.8447 - accuracy: 0.7200 - val_loss: 3.7386 - val_accuracy: 0.1650\n",
      "Epoch 17/50\n",
      "15/15 [==============================] - 51s 3s/step - loss: 0.7340 - accuracy: 0.7678 - val_loss: 4.0557 - val_accuracy: 0.1550\n",
      "Epoch 18/50\n",
      "15/15 [==============================] - 46s 3s/step - loss: 0.7585 - accuracy: 0.7400 - val_loss: 4.1420 - val_accuracy: 0.1600\n",
      "Epoch 19/50\n",
      "15/15 [==============================] - 45s 3s/step - loss: 0.6063 - accuracy: 0.7989 - val_loss: 4.6939 - val_accuracy: 0.1600\n",
      "Epoch 20/50\n",
      "15/15 [==============================] - 46s 3s/step - loss: 0.5070 - accuracy: 0.8528 - val_loss: 4.9643 - val_accuracy: 0.1650\n",
      "Epoch 21/50\n",
      "15/15 [==============================] - 46s 3s/step - loss: 0.4410 - accuracy: 0.8778 - val_loss: 5.2709 - val_accuracy: 0.1850\n",
      "Epoch 22/50\n",
      "15/15 [==============================] - 47s 3s/step - loss: 0.4232 - accuracy: 0.8650 - val_loss: 5.9925 - val_accuracy: 0.1750\n",
      "Epoch 23/50\n",
      "15/15 [==============================] - 46s 3s/step - loss: 0.4065 - accuracy: 0.8817 - val_loss: 6.0993 - val_accuracy: 0.1700\n",
      "Epoch 24/50\n",
      "15/15 [==============================] - 49s 3s/step - loss: 0.3129 - accuracy: 0.9139 - val_loss: 6.8335 - val_accuracy: 0.1750\n",
      "Epoch 25/50\n",
      "15/15 [==============================] - 45s 3s/step - loss: 0.2880 - accuracy: 0.9228 - val_loss: 6.8558 - val_accuracy: 0.1850\n",
      "Epoch 26/50\n",
      "15/15 [==============================] - 44s 3s/step - loss: 0.2850 - accuracy: 0.9261 - val_loss: 6.9282 - val_accuracy: 0.1750\n",
      "Epoch 27/50\n",
      "15/15 [==============================] - 42s 3s/step - loss: 0.2480 - accuracy: 0.9317 - val_loss: 7.5393 - val_accuracy: 0.1550\n",
      "Epoch 28/50\n",
      "15/15 [==============================] - 42s 3s/step - loss: 0.2648 - accuracy: 0.9272 - val_loss: 7.9524 - val_accuracy: 0.1500\n",
      "Epoch 29/50\n",
      "15/15 [==============================] - 42s 3s/step - loss: 0.2688 - accuracy: 0.9239 - val_loss: 7.7012 - val_accuracy: 0.1600\n",
      "Epoch 30/50\n",
      "15/15 [==============================] - 42s 3s/step - loss: 0.2271 - accuracy: 0.9378 - val_loss: 7.8449 - val_accuracy: 0.1550\n",
      "Epoch 31/50\n",
      "15/15 [==============================] - 43s 3s/step - loss: 0.1862 - accuracy: 0.9522 - val_loss: 8.3890 - val_accuracy: 0.1700\n",
      "Epoch 32/50\n",
      "15/15 [==============================] - 47s 3s/step - loss: 0.1874 - accuracy: 0.9500 - val_loss: 8.7601 - val_accuracy: 0.2100\n",
      "Epoch 33/50\n",
      "15/15 [==============================] - 42s 3s/step - loss: 0.1925 - accuracy: 0.9489 - val_loss: 8.2816 - val_accuracy: 0.1900\n",
      "Epoch 34/50\n",
      "15/15 [==============================] - 42s 3s/step - loss: 0.1962 - accuracy: 0.9494 - val_loss: 9.3013 - val_accuracy: 0.1750\n",
      "Epoch 35/50\n",
      "15/15 [==============================] - 48s 3s/step - loss: 0.2038 - accuracy: 0.9544 - val_loss: 8.7579 - val_accuracy: 0.1850\n",
      "Epoch 36/50\n",
      "15/15 [==============================] - 47s 3s/step - loss: 0.1252 - accuracy: 0.9689 - val_loss: 9.7406 - val_accuracy: 0.1600\n",
      "Epoch 37/50\n",
      "15/15 [==============================] - 47s 3s/step - loss: 0.1169 - accuracy: 0.9694 - val_loss: 9.3645 - val_accuracy: 0.1700\n",
      "Epoch 38/50\n",
      "15/15 [==============================] - 42s 3s/step - loss: 0.1193 - accuracy: 0.9717 - val_loss: 9.8430 - val_accuracy: 0.1700\n",
      "Epoch 39/50\n",
      "15/15 [==============================] - 41s 3s/step - loss: 0.1182 - accuracy: 0.9711 - val_loss: 9.6611 - val_accuracy: 0.1800\n",
      "Epoch 40/50\n",
      "15/15 [==============================] - 41s 3s/step - loss: 0.1318 - accuracy: 0.9656 - val_loss: 9.5637 - val_accuracy: 0.1850\n",
      "Epoch 41/50\n",
      "15/15 [==============================] - 44s 3s/step - loss: 0.1144 - accuracy: 0.9722 - val_loss: 9.3922 - val_accuracy: 0.1800\n",
      "Epoch 42/50\n",
      "15/15 [==============================] - 43s 3s/step - loss: 0.0995 - accuracy: 0.9728 - val_loss: 10.1366 - val_accuracy: 0.1750\n",
      "Epoch 43/50\n",
      "15/15 [==============================] - 44s 3s/step - loss: 0.0975 - accuracy: 0.9750 - val_loss: 10.4763 - val_accuracy: 0.1950\n",
      "Epoch 44/50\n",
      "15/15 [==============================] - 43s 3s/step - loss: 0.1110 - accuracy: 0.9689 - val_loss: 9.8623 - val_accuracy: 0.1800\n",
      "Epoch 45/50\n",
      "15/15 [==============================] - 41s 3s/step - loss: 0.1033 - accuracy: 0.9739 - val_loss: 10.4311 - val_accuracy: 0.1650\n",
      "Epoch 46/50\n",
      "15/15 [==============================] - 40s 3s/step - loss: 0.0931 - accuracy: 0.9728 - val_loss: 10.7558 - val_accuracy: 0.1750\n",
      "Epoch 47/50\n",
      "15/15 [==============================] - 40s 3s/step - loss: 0.0806 - accuracy: 0.9789 - val_loss: 11.0150 - val_accuracy: 0.1800\n",
      "Epoch 48/50\n",
      "15/15 [==============================] - 40s 3s/step - loss: 0.0718 - accuracy: 0.9806 - val_loss: 11.4491 - val_accuracy: 0.1600\n",
      "Epoch 49/50\n",
      "15/15 [==============================] - 41s 3s/step - loss: 0.0766 - accuracy: 0.9800 - val_loss: 11.3088 - val_accuracy: 0.1550\n",
      "Epoch 50/50\n",
      "15/15 [==============================] - 41s 3s/step - loss: 0.0698 - accuracy: 0.9811 - val_loss: 11.3646 - val_accuracy: 0.1750\n"
     ]
    },
    {
     "data": {
      "text/plain": [
       "<tensorflow.python.keras.callbacks.History at 0x1626580d0>"
      ]
     },
     "execution_count": 8,
     "metadata": {},
     "output_type": "execute_result"
    }
   ],
   "source": [
    "batch_size = 128\n",
    "epochs = 50\n",
    "\n",
    "callbacks = [\n",
    "    keras.callbacks.ModelCheckpoint(\"save_at_{epoch}.h5\"),\n",
    "]\n",
    "\n",
    "model.compile(loss=\"categorical_crossentropy\", optimizer=\"adam\", metrics=[\"accuracy\"])\n",
    "\n",
    "model.fit(x_train, y_train, batch_size=batch_size, epochs=epochs, callbacks=callbacks, validation_split=0.1)"
   ]
  },
  {
   "cell_type": "code",
   "execution_count": 9,
   "metadata": {},
   "outputs": [
    {
     "name": "stdout",
     "output_type": "stream",
     "text": [
      "Test loss: 11.442000389099121\n",
      "Test accuracy: 0.18346253037452698\n"
     ]
    }
   ],
   "source": [
    "score = model.evaluate(x_test, y_test, verbose=0)\n",
    "print(\"Test loss:\", score[0])\n",
    "print(\"Test accuracy:\", score[1])"
   ]
  },
  {
   "cell_type": "code",
   "execution_count": null,
   "metadata": {},
   "outputs": [],
   "source": []
  }
 ],
 "metadata": {
  "kernelspec": {
   "display_name": "Python 3.8.3 64-bit ('3.8.3': pyenv)",
   "language": "python",
   "name": "python38364bit383pyenv1c47ad5088654d438bcc584c028a6184"
  },
  "language_info": {
   "codemirror_mode": {
    "name": "ipython",
    "version": 3
   },
   "file_extension": ".py",
   "mimetype": "text/x-python",
   "name": "python",
   "nbconvert_exporter": "python",
   "pygments_lexer": "ipython3",
   "version": "3.8.3"
  }
 },
 "nbformat": 4,
 "nbformat_minor": 4
}
